{
 "cells": [
  {
   "cell_type": "markdown",
   "id": "10023d47",
   "metadata": {},
   "source": [
    "# Importing the standard libraries"
   ]
  },
  {
   "cell_type": "code",
   "execution_count": null,
   "id": "d415ff31",
   "metadata": {},
   "outputs": [],
   "source": [
    "import numpy as np\n",
    "import pandas as pd\n",
    "import matplotlib.pyplot as plt\n",
    "import sklearn\n",
    "import seaborn as sns"
   ]
  },
  {
   "cell_type": "code",
   "execution_count": null,
   "id": "37b9ceea",
   "metadata": {},
   "outputs": [],
   "source": [
    "train_data=pd.read_csv(\"C:\\\\Users\\\\aarus\\\\Downloads\\\\house-prices-advanced-regression-techniques\\\\train.csv\")\n",
    "test_data=pd.read_csv(\"C:\\\\Users\\\\aarus\\\\Downloads\\\\house-prices-advanced-regression-techniques\\\\test.csv\")"
   ]
  },
  {
   "cell_type": "code",
   "execution_count": null,
   "id": "317db523",
   "metadata": {},
   "outputs": [],
   "source": [
    "train_data.shape, test_data.shape"
   ]
  },
  {
   "cell_type": "code",
   "execution_count": null,
   "id": "1b671279",
   "metadata": {},
   "outputs": [],
   "source": [
    "df_train=pd.DataFrame(train_data)\n",
    "df_test=pd.DataFrame(test_data)"
   ]
  },
  {
   "cell_type": "markdown",
   "id": "0d4b4c61",
   "metadata": {},
   "source": [
    "**The below code is to display all 1460 columns and 81 rows in both train data and test data**"
   ]
  },
  {
   "cell_type": "code",
   "execution_count": null,
   "id": "92b8e851",
   "metadata": {},
   "outputs": [],
   "source": [
    "#pd.set_option(\"display.max_column\", None) \n",
    "#pd.set_option(\"display.max_row\",None)"
   ]
  },
  {
   "cell_type": "markdown",
   "id": "e09d8795",
   "metadata": {},
   "source": [
    "# Understanding the training and test data"
   ]
  },
  {
   "cell_type": "code",
   "execution_count": null,
   "id": "ab27fb46",
   "metadata": {},
   "outputs": [],
   "source": [
    "df_train.head()"
   ]
  },
  {
   "cell_type": "code",
   "execution_count": null,
   "id": "214ad3bf",
   "metadata": {},
   "outputs": [],
   "source": [
    "df_train.info()"
   ]
  },
  {
   "cell_type": "code",
   "execution_count": null,
   "id": "952e18d4",
   "metadata": {},
   "outputs": [],
   "source": [
    "df_train.describe()"
   ]
  },
  {
   "cell_type": "code",
   "execution_count": null,
   "id": "29ba3769",
   "metadata": {},
   "outputs": [],
   "source": [
    "df_train.isnull().sum() #Check for null values"
   ]
  },
  {
   "cell_type": "code",
   "execution_count": null,
   "id": "b18279b0",
   "metadata": {},
   "outputs": [],
   "source": [
    "dict={'Id':[2920]}    #Adding another row to the training data\n",
    "dfadd=pd.DataFrame(dict)\n",
    "df_test=df_test.append(dfadd,ignore_index = True)\n",
    "df_test"
   ]
  },
  {
   "cell_type": "markdown",
   "id": "aac76efa",
   "metadata": {},
   "source": [
    "**Concatinate the two dataframes**"
   ]
  },
  {
   "cell_type": "code",
   "execution_count": null,
   "id": "c5fdf38d",
   "metadata": {},
   "outputs": [],
   "source": [
    "df=pd.concat([df_train,df_test])\n",
    "df.shape\n",
    "df"
   ]
  },
  {
   "cell_type": "code",
   "execution_count": null,
   "id": "0707b7d2",
   "metadata": {},
   "outputs": [],
   "source": [
    "df.info()"
   ]
  },
  {
   "cell_type": "code",
   "execution_count": null,
   "id": "a2623df8",
   "metadata": {},
   "outputs": [],
   "source": [
    "#Total features with numeric values\n",
    "numeric_features=df.select_dtypes(include=[\"number\"]).columns\n",
    "numeric_features.shape[0]"
   ]
  },
  {
   "cell_type": "code",
   "execution_count": null,
   "id": "1a3a295b",
   "metadata": {},
   "outputs": [],
   "source": [
    "#Total features with string or categorical value\n",
    "string_features=df.select_dtypes(include=[\"object\"]).columns\n",
    "string_features.shape[0]"
   ]
  },
  {
   "cell_type": "markdown",
   "id": "4e726de9",
   "metadata": {},
   "source": [
    "# Visualising the data"
   ]
  },
  {
   "cell_type": "markdown",
   "id": "17cfc424",
   "metadata": {},
   "source": [
    "- dataprep is a library that helps in performing EDA on a dataset"
   ]
  },
  {
   "cell_type": "code",
   "execution_count": null,
   "id": "c3fcd8cc",
   "metadata": {},
   "outputs": [],
   "source": [
    "from dataprep.eda import plot\n",
    "from dataprep.eda import plot_missing\n",
    "sns.set(style=\"whitegrid\", color_codes=True)\n",
    "sns.set(font_scale=1)\n",
    "plot(df[\"LotFrontage\"])"
   ]
  },
  {
   "cell_type": "code",
   "execution_count": null,
   "id": "5a6821a1",
   "metadata": {},
   "outputs": [],
   "source": [
    "plot(df[\"OverallQual\"])"
   ]
  },
  {
   "cell_type": "code",
   "execution_count": null,
   "id": "a3dae004",
   "metadata": {},
   "outputs": [],
   "source": [
    "plot(df[\"LotArea\"])"
   ]
  },
  {
   "cell_type": "markdown",
   "id": "848d11ce",
   "metadata": {},
   "source": [
    "**Plotting correlation tells us**\n",
    "- The relation of features with our target variable\n",
    "- The more the value of corr is the more that feature is related to the target variable"
   ]
  },
  {
   "cell_type": "code",
   "execution_count": null,
   "id": "74d66357",
   "metadata": {},
   "outputs": [],
   "source": [
    "#Plotting the correlation of all the features with SalePrice\n",
    "from dataprep.eda import plot_correlation\n",
    "plot_correlation(df, \"SalePrice\", value_range=[0, 1])"
   ]
  },
  {
   "cell_type": "markdown",
   "id": "ac289103",
   "metadata": {},
   "source": [
    "**Plotting the missing values with the SalePrice**"
   ]
  },
  {
   "cell_type": "code",
   "execution_count": null,
   "id": "78bbe0c8",
   "metadata": {},
   "outputs": [],
   "source": [
    "plot_missing(df)"
   ]
  },
  {
   "cell_type": "code",
   "execution_count": null,
   "id": "708c61a9",
   "metadata": {},
   "outputs": [],
   "source": [
    "# we can drop the id column because it's of no use as a feature\n",
    "#df.drop(columns=['Id'])"
   ]
  },
  {
   "cell_type": "code",
   "execution_count": null,
   "id": "cfa81c8a",
   "metadata": {},
   "outputs": [],
   "source": [
    "null_percentage=df.isnull().sum()/2920*100\n",
    "null_percentage"
   ]
  },
  {
   "cell_type": "code",
   "execution_count": null,
   "id": "68448ff5",
   "metadata": {},
   "outputs": [],
   "source": [
    "print(null_percentage[null_percentage>50]) #Features with the most missing values"
   ]
  },
  {
   "cell_type": "markdown",
   "id": "7a9d29b2",
   "metadata": {},
   "source": [
    "**Making a copy of our dataset *df* so that our original data is not tampered with**"
   ]
  },
  {
   "cell_type": "code",
   "execution_count": null,
   "id": "3f071d41",
   "metadata": {},
   "outputs": [],
   "source": [
    "df_copy=df.copy()\n",
    "df_copy.shape"
   ]
  },
  {
   "cell_type": "markdown",
   "id": "7880ab93",
   "metadata": {},
   "source": [
    "# Dealing with null values"
   ]
  },
  {
   "cell_type": "code",
   "execution_count": null,
   "id": "1366ca97",
   "metadata": {},
   "outputs": [],
   "source": [
    "mszoning_mode=df_copy[\"MSZoning\"].mode()[0]\n",
    "df_copy[\"MSZoning\"].replace(np.nan,mszoning_mode, inplace=True)"
   ]
  },
  {
   "cell_type": "code",
   "execution_count": null,
   "id": "5f5422c4",
   "metadata": {},
   "outputs": [],
   "source": [
    "alley_val=\"NA\"\n",
    "df_copy[\"Alley\"].replace(np.nan, alley_val, inplace=True)"
   ]
  },
  {
   "cell_type": "code",
   "execution_count": null,
   "id": "abf8b0f2",
   "metadata": {},
   "outputs": [],
   "source": [
    "lotfrontage_mean=df_copy[\"LotFrontage\"].mean()\n",
    "df_copy[\"LotFrontage\"].replace(np.nan,lotfrontage_mean, inplace=True)\n",
    "df_copy[\"LotFrontage\"].isnull().sum()"
   ]
  },
  {
   "cell_type": "code",
   "execution_count": null,
   "id": "4f45ffbf",
   "metadata": {},
   "outputs": [],
   "source": [
    "#Changing the utilities\n",
    "utility_mode=df_copy[\"Utilities\"].mode()[0]\n",
    "df_copy[\"Utilities\"].replace(np.nan, utility_mode, inplace=True)"
   ]
  },
  {
   "cell_type": "code",
   "execution_count": null,
   "id": "c11e7106",
   "metadata": {},
   "outputs": [],
   "source": [
    "#Changing the Exterior1st & Exterior2nd\n",
    "exterior1st_mode=df[\"Exterior1st\"].mode()[0]\n",
    "df_copy[\"Exterior1st\"].replace(np.nan, exterior1st_mode, inplace=True)\n",
    "exterior2nd_mode=df[\"Exterior2nd\"].mode()[0]\n",
    "df_copy[\"Exterior2nd\"].replace(np.nan, exterior2nd_mode, inplace=True)\n",
    "df_copy[\"Exterior1st\"].isnull().sum()"
   ]
  },
  {
   "cell_type": "code",
   "execution_count": null,
   "id": "34fa1b7c",
   "metadata": {},
   "outputs": [],
   "source": [
    "#Changing MasVnrtype & MasVnrArea\n",
    "masvnrtype_mode=df[\"MasVnrType\"].mode()[0]\n",
    "df_copy[\"MasVnrType\"].replace(np.nan,masvnrtype_mode, inplace=True )\n",
    "df_copy[\"MasVnrType\"].isnull().sum()"
   ]
  },
  {
   "cell_type": "code",
   "execution_count": null,
   "id": "88d10a67",
   "metadata": {},
   "outputs": [],
   "source": [
    "df_copy[\"MasVnrArea\"].replace(np.nan,0 , inplace=True )\n",
    "df_copy[\"MasVnrArea\"].isnull().sum()"
   ]
  },
  {
   "cell_type": "code",
   "execution_count": null,
   "id": "40956d9e",
   "metadata": {},
   "outputs": [],
   "source": [
    "#Change the basement features\n",
    "df_copy[\"BsmtFinSF1\"].fillna(0, inplace=True)\n",
    "df_copy[\"BsmtFinSF2\"].fillna(0, inplace=True)\n",
    "df_copy[\"BsmtUnfSF\"].fillna(0, inplace=True)\n",
    "df_copy[\"TotalBsmtSF\"].fillna(0, inplace=True)\n",
    "df_copy[\"BsmtFullBath\"].fillna(0, inplace=True)\n",
    "df_copy[\"BsmtHalfBath\"].fillna(0, inplace=True)"
   ]
  },
  {
   "cell_type": "code",
   "execution_count": null,
   "id": "8eb411af",
   "metadata": {},
   "outputs": [],
   "source": [
    "Electrical_mode=df[\"Electrical\"].mode()[0]\n",
    "df_copy[\"Electrical\"].replace(np.nan,Electrical_mode, inplace=True )\n",
    "df_copy[\"Electrical\"].isnull().sum()"
   ]
  },
  {
   "cell_type": "code",
   "execution_count": null,
   "id": "6715b8a8",
   "metadata": {},
   "outputs": [],
   "source": [
    "KitchenQual_mode=df[\"KitchenQual\"].mode()[0]\n",
    "df_copy[\"KitchenQual\"].replace(np.nan,KitchenQual_mode, inplace=True )\n",
    "df_copy[\"KitchenQual\"].isnull().sum()"
   ]
  },
  {
   "cell_type": "code",
   "execution_count": null,
   "id": "c6ced81f",
   "metadata": {},
   "outputs": [],
   "source": [
    "KitchenQual_mode=df[\"KitchenQual\"].mode()[0]\n",
    "df_copy[\"KitchenQual\"].replace(np.nan,KitchenQual_mode, inplace=True )\n",
    "df_copy[\"KitchenQual\"].isnull().sum()"
   ]
  },
  {
   "cell_type": "code",
   "execution_count": null,
   "id": "bc68e51e",
   "metadata": {},
   "outputs": [],
   "source": [
    "Functional_mode=df[\"Functional\"].mode()[0]\n",
    "df_copy[\"Functional\"].replace(np.nan,Functional_mode, inplace=True )\n",
    "df_copy[\"Functional\"].isnull().sum()"
   ]
  },
  {
   "cell_type": "code",
   "execution_count": null,
   "id": "6a5efb6e",
   "metadata": {},
   "outputs": [],
   "source": [
    "SaleType_mode=df[\"SaleType\"].mode()[0]\n",
    "df_copy[\"SaleType\"].replace(np.nan,SaleType_mode, inplace=True )\n",
    "df_copy[\"SaleType\"].isnull().sum()"
   ]
  },
  {
   "cell_type": "code",
   "execution_count": null,
   "id": "a0101829",
   "metadata": {},
   "outputs": [],
   "source": [
    "df_copy[\"Fireplaces\"].fillna(\"NA\", inplace=True)\n",
    "df_copy[\"PoolArea\"].fillna(\"NA\", inplace=True)\n",
    "df_copy[\"PoolQC\"].fillna(\"NA\", inplace=True)\n",
    "df_copy[\"Fence\"].fillna(\"NA\", inplace=True)\n",
    "df_copy[\"MiscFeature\"].fillna(\"NA\", inplace=True)"
   ]
  },
  {
   "cell_type": "code",
   "execution_count": null,
   "id": "4a1fb5a9",
   "metadata": {},
   "outputs": [],
   "source": [
    "df_copy[\"GarageType\"].fillna(\"NA\", inplace=True)\n",
    "df_copy[\"GarageYrBlt\"].fillna(0, inplace=True)\n",
    "df_copy[\"GarageFinish\"].fillna(\"NA\", inplace=True)\n",
    "df_copy[\"GarageCars\"].fillna(0, inplace=True)\n",
    "df_copy[\"GarageArea\"].fillna(0, inplace=True)\n",
    "df_copy[\"GarageQual\"].fillna(\"NA\", inplace=True)\n",
    "df_copy[\"GarageCond\"].fillna(\"NA\", inplace=True)"
   ]
  },
  {
   "cell_type": "code",
   "execution_count": null,
   "id": "e7bf35ae",
   "metadata": {},
   "outputs": [],
   "source": [
    "df_copy.head()"
   ]
  },
  {
   "cell_type": "code",
   "execution_count": null,
   "id": "f12f4c6a",
   "metadata": {},
   "outputs": [],
   "source": [
    "df_copy.isnull().sum()"
   ]
  },
  {
   "cell_type": "markdown",
   "id": "0e331871",
   "metadata": {},
   "source": [
    "# Preprocessing the data "
   ]
  },
  {
   "cell_type": "markdown",
   "id": "e1750b57",
   "metadata": {},
   "source": [
    "- Converting the values with categorical data to numerical data because computer understands numerical data"
   ]
  },
  {
   "cell_type": "code",
   "execution_count": null,
   "id": "af6094c9",
   "metadata": {},
   "outputs": [],
   "source": [
    "from sklearn.preprocessing import OneHotEncoder  \n",
    "df_encode=df_copy.copy()\n",
    "object_features=df_encode.select_dtypes(include=\"object\").columns.tolist()\n",
    "df_encode.shape"
   ]
  },
  {
   "cell_type": "code",
   "execution_count": null,
   "id": "3958d51e",
   "metadata": {},
   "outputs": [],
   "source": [
    "df_encode.head()"
   ]
  },
  {
   "cell_type": "code",
   "execution_count": null,
   "id": "28bef206",
   "metadata": {},
   "outputs": [],
   "source": [
    "df_encode[object_features].head(2) #Getting all the data with categorical values"
   ]
  },
  {
   "cell_type": "code",
   "execution_count": null,
   "id": "c0f4590c",
   "metadata": {},
   "outputs": [],
   "source": [
    "df_encode=pd.get_dummies(df_encode, columns=object_features, prefix=object_features,drop_first=True)"
   ]
  },
  {
   "cell_type": "code",
   "execution_count": null,
   "id": "d365cc47",
   "metadata": {},
   "outputs": [],
   "source": [
    "df_encode[\"MSZoning_FV\"].value_counts()"
   ]
  },
  {
   "cell_type": "code",
   "execution_count": null,
   "id": "c82a15f7",
   "metadata": {},
   "outputs": [],
   "source": [
    "df_encode.shape"
   ]
  },
  {
   "cell_type": "code",
   "execution_count": null,
   "id": "b189ec62",
   "metadata": {},
   "outputs": [],
   "source": [
    "df_encode.select_dtypes(include=\"object\").columns.tolist()"
   ]
  },
  {
   "cell_type": "markdown",
   "id": "7d87a73c",
   "metadata": {},
   "source": [
    "**Filling the remaining null values with 0**"
   ]
  },
  {
   "cell_type": "code",
   "execution_count": null,
   "id": "087a99b9",
   "metadata": {},
   "outputs": [],
   "source": [
    "df_modified=df_encode.fillna(0)"
   ]
  },
  {
   "cell_type": "code",
   "execution_count": null,
   "id": "f8b4ae6f",
   "metadata": {},
   "outputs": [],
   "source": [
    "len_train=len(df_train)\n",
    "len_train"
   ]
  },
  {
   "cell_type": "markdown",
   "id": "5166cccf",
   "metadata": {},
   "source": [
    "# Splitting the data into training and testing data"
   ]
  },
  {
   "cell_type": "code",
   "execution_count": null,
   "id": "d42a185e",
   "metadata": {},
   "outputs": [],
   "source": [
    "x_train=df_modified[:len_train].drop(columns=[\"SalePrice\"])\n",
    "y_train=df_modified[\"SalePrice\"][:len_train]\n",
    "x_test=df_modified[len_train:].drop(\"SalePrice\",axis=1)"
   ]
  },
  {
   "cell_type": "code",
   "execution_count": null,
   "id": "8550e061",
   "metadata": {},
   "outputs": [],
   "source": [
    "x_test[1:100]"
   ]
  },
  {
   "cell_type": "markdown",
   "id": "24cd593e",
   "metadata": {},
   "source": [
    "# Feature Scaling"
   ]
  },
  {
   "cell_type": "code",
   "execution_count": null,
   "id": "6fa0fe8a",
   "metadata": {},
   "outputs": [],
   "source": [
    "from sklearn.preprocessing import StandardScaler\n",
    "scaler=StandardScaler()\n",
    "scaler.fit(x_train)\n",
    "x_train=scaler.transform(x_train)\n",
    "x_test=scaler.transform(x_test)"
   ]
  },
  {
   "cell_type": "markdown",
   "id": "bd6db1d9",
   "metadata": {},
   "source": [
    "# Importing RandomForestRegressor algorithm"
   ]
  },
  {
   "cell_type": "code",
   "execution_count": null,
   "id": "ebe75067",
   "metadata": {},
   "outputs": [],
   "source": [
    "from sklearn.ensemble import RandomForestRegressor\n",
    "  \n",
    "#create regressor object\n",
    "model= RandomForestRegressor(n_estimators = 100)\n",
    "  \n",
    "# fit the regressor with x_train and y_train data\n",
    "model.fit(x_train, y_train)  "
   ]
  },
  {
   "cell_type": "markdown",
   "id": "1edc937e",
   "metadata": {},
   "source": [
    "# Making Predictions"
   ]
  },
  {
   "cell_type": "code",
   "execution_count": null,
   "id": "e37fb3a9",
   "metadata": {},
   "outputs": [],
   "source": [
    "y_pred = model.predict(x_test)"
   ]
  },
  {
   "cell_type": "code",
   "execution_count": null,
   "id": "7deba45b",
   "metadata": {},
   "outputs": [],
   "source": [
    "y_pred"
   ]
  },
  {
   "cell_type": "code",
   "execution_count": null,
   "id": "fce86f72",
   "metadata": {},
   "outputs": [],
   "source": [
    "df_modified[\"Id\"][len_train:] #since we also need ID"
   ]
  },
  {
   "cell_type": "code",
   "execution_count": null,
   "id": "452829c2",
   "metadata": {},
   "outputs": [],
   "source": [
    "df_result=pd.DataFrame(y_pred,df_modified[\"Id\"][len_train:]) "
   ]
  },
  {
   "cell_type": "code",
   "execution_count": null,
   "id": "9258f950",
   "metadata": {},
   "outputs": [],
   "source": [
    "df_result"
   ]
  },
  {
   "cell_type": "code",
   "execution_count": null,
   "id": "fa55fbab",
   "metadata": {},
   "outputs": [],
   "source": [
    "df_result=df_result.rename(columns={0: 'SalesPrice'})\n",
    "df_result"
   ]
  },
  {
   "cell_type": "code",
   "execution_count": null,
   "id": "2eff1051",
   "metadata": {},
   "outputs": [],
   "source": [
    "df_result.shape"
   ]
  },
  {
   "cell_type": "markdown",
   "id": "5289293e",
   "metadata": {},
   "source": [
    "# Visualising the result dataframe"
   ]
  },
  {
   "cell_type": "code",
   "execution_count": null,
   "id": "af67d621",
   "metadata": {},
   "outputs": [],
   "source": [
    "plt.hist(df_result, 20,\n",
    "         density=True,\n",
    "         histtype='bar',\n",
    "         facecolor='b',\n",
    "         alpha=0.5)\n",
    "\n",
    "plt.show()"
   ]
  },
  {
   "cell_type": "code",
   "execution_count": null,
   "id": "089c867f",
   "metadata": {},
   "outputs": [],
   "source": [
    "df_result.to_csv('Housingpred_vals.csv') #converting to csv file"
   ]
  },
  {
   "cell_type": "code",
   "execution_count": null,
   "id": "36e76fad",
   "metadata": {},
   "outputs": [],
   "source": []
  }
 ],
 "metadata": {
  "kernelspec": {
   "display_name": "Python 3 (ipykernel)",
   "language": "python",
   "name": "python3"
  },
  "language_info": {
   "codemirror_mode": {
    "name": "ipython",
    "version": 3
   },
   "file_extension": ".py",
   "mimetype": "text/x-python",
   "name": "python",
   "nbconvert_exporter": "python",
   "pygments_lexer": "ipython3",
   "version": "3.10.4"
  }
 },
 "nbformat": 4,
 "nbformat_minor": 5
}
