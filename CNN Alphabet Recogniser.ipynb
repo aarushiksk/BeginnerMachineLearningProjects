{
 "cells": [
  {
   "cell_type": "code",
   "execution_count": 7,
   "id": "8cb3b1e7",
   "metadata": {},
   "outputs": [],
   "source": [
    "import matplotlib.pyplot as plt\n",
    "import seaborn as sns"
   ]
  },
  {
   "cell_type": "code",
   "execution_count": 1,
   "id": "5fb212b2",
   "metadata": {},
   "outputs": [],
   "source": [
    "from keras.models import Sequential\n",
    "from keras.layers import Dense\n",
    "from keras.layers import Dropout\n",
    "from keras.layers import Flatten\n",
    "from tensorflow.keras.optimizers import Adam\n",
    "from keras.layers.convolutional import Conv2D\n",
    "from keras.layers.convolutional import MaxPooling2D\n",
    "from keras import backend as K\n",
    "from keras.utils import np_utils\n",
    "from sklearn.model_selection import train_test_split\n",
    "import numpy as np"
   ]
  },
  {
   "cell_type": "code",
   "execution_count": 2,
   "id": "cb3e70a9",
   "metadata": {},
   "outputs": [],
   "source": [
    "#Now, reload the dataset and change it into \"numpy array\".\n",
    "dataset = np.loadtxt('C:\\\\Users\\\\aarus\\\\Downloads\\\\archive\\\\A_Z Handwritten Data.csv', delimiter=',')\n",
    "#Dataset is split into 2 parts, training and testing...\n",
    "X = dataset[:,0:784]\n",
    "Y = dataset[:,0]\n",
    "#Split the \"X,Y\" data into the ratio of 7:3, 3 is the test size. \n",
    "(X_train, X_test, Y_train, Y_test) = train_test_split(X, Y, test_size=0.3, random_state=2)\n",
    "#Reshape the data and change it into float 32 as usual.\n",
    "X_train = X_train.reshape(X_train.shape[0], 28, 28, 1).astype('float32')\n",
    "X_test = X_test.reshape(X_test.shape[0], 28, 28, 1).astype('float32')\n",
    "#The pixel of the data is comprised from 0 to 255. 0 is white,255 is black.\n",
    "#Now normalize the data from 0 to 1 without some libraries, in a simple way.\n",
    "X_train = X_train / 255\n",
    "X_test = X_test / 255"
   ]
  },
  {
   "cell_type": "code",
   "execution_count": 3,
   "id": "e7b249d7",
   "metadata": {},
   "outputs": [],
   "source": [
    "Y_train = np_utils.to_categorical(Y_train)\n",
    "Y_test = np_utils.to_categorical(Y_test)\n",
    "#Classify 26 alphabets.\n",
    "num_classes = Y_test.shape[1]"
   ]
  },
  {
   "cell_type": "code",
   "execution_count": 4,
   "id": "cd59bfaf",
   "metadata": {},
   "outputs": [
    {
     "name": "stdout",
     "output_type": "stream",
     "text": [
      "Model: \"sequential\"\n",
      "_________________________________________________________________\n",
      " Layer (type)                Output Shape              Param #   \n",
      "=================================================================\n",
      " conv2d (Conv2D)             (None, 24, 24, 32)        832       \n",
      "                                                                 \n",
      " max_pooling2d (MaxPooling2D  (None, 12, 12, 32)       0         \n",
      " )                                                               \n",
      "                                                                 \n",
      " flatten (Flatten)           (None, 4608)              0         \n",
      "                                                                 \n",
      " dense (Dense)               (None, 128)               589952    \n",
      "                                                                 \n",
      " dense_1 (Dense)             (None, 26)                3354      \n",
      "                                                                 \n",
      "=================================================================\n",
      "Total params: 594,138\n",
      "Trainable params: 594,138\n",
      "Non-trainable params: 0\n",
      "_________________________________________________________________\n",
      "None\n"
     ]
    }
   ],
   "source": [
    "model = Sequential()\n",
    "model.add(Conv2D(32, (5, 5), input_shape=(28, 28, 1), activation='relu'))\n",
    "model.add(MaxPooling2D(pool_size=(2, 2)))\n",
    "model.add(Flatten())\n",
    "model.add(Dense(128, activation='relu'))\n",
    "model.add(Dense(num_classes, activation='softmax'))\n",
    "#Choose an optimizer and compile the model.\n",
    "model.compile(optimizer = Adam(learning_rate = 0.01), loss = 'categorical_crossentropy', metrics = ['accuracy'])\n",
    "#And print the summary of the model.\n",
    "print(model.summary())"
   ]
  },
  {
   "cell_type": "code",
   "execution_count": 5,
   "id": "bf309600",
   "metadata": {},
   "outputs": [
    {
     "name": "stdout",
     "output_type": "stream",
     "text": [
      "Epoch 1/5\n",
      "2037/2037 [==============================] - 49s 23ms/step - loss: 0.1879 - accuracy: 0.9474\n",
      "Epoch 2/5\n",
      "2037/2037 [==============================] - 51s 25ms/step - loss: 0.0965 - accuracy: 0.9725\n",
      "Epoch 3/5\n",
      "2037/2037 [==============================] - 69s 34ms/step - loss: 0.0835 - accuracy: 0.9759\n",
      "Epoch 4/5\n",
      "2037/2037 [==============================] - 61s 30ms/step - loss: 0.0736 - accuracy: 0.9786\n",
      "Epoch 5/5\n",
      "2037/2037 [==============================] - 73s 36ms/step - loss: 0.0644 - accuracy: 0.9815\n"
     ]
    }
   ],
   "source": [
    "Train1=model.fit(X_train, Y_train,batch_size=128, epochs=5)"
   ]
  },
  {
   "cell_type": "code",
   "execution_count": null,
   "id": "498c8e84",
   "metadata": {},
   "outputs": [],
   "source": [
    "Test1=model.fit(X_test, Y_test,batch_size=128, epochs=5)"
   ]
  },
  {
   "cell_type": "code",
   "execution_count": 8,
   "id": "ca31f2e9",
   "metadata": {},
   "outputs": [
    {
     "data": {
      "text/plain": [
       "<matplotlib.image.AxesImage at 0x2581a11add0>"
      ]
     },
     "execution_count": 8,
     "metadata": {},
     "output_type": "execute_result"
    },
    {
     "data": {
      "image/png": "[encoded data removed]",
      "text/plain": [
       "<Figure size 640x480 with 1 Axes>"
      ]
     },
     "metadata": {},
     "output_type": "display_data"
    }
   ],
   "source": [
    "plt.imshow(X_test[[20]].reshape(28,28),cmap='Greys')"
   ]
  },
  {
   "cell_type": "code",
   "execution_count": 9,
   "id": "a997fa48",
   "metadata": {},
   "outputs": [
    {
     "name": "stdout",
     "output_type": "stream",
     "text": [
      "1/1 [==============================] - 0s 116ms/step\n"
     ]
    },
    {
     "data": {
      "text/plain": [
       "array([[3.4863365e-24, 2.7577325e-22, 3.0940535e-24, 9.5667434e-24,\n",
       "        5.6675716e-15, 2.7559205e-13, 2.6567584e-26, 8.0795123e-18,\n",
       "        4.7705072e-19, 8.7724161e-15, 1.8962131e-15, 8.5282072e-16,\n",
       "        2.8693107e-19, 2.0498952e-16, 2.2227371e-18, 5.1974731e-12,\n",
       "        1.7740156e-24, 5.3371663e-22, 2.8337836e-12, 2.0672633e-07,\n",
       "        4.2846456e-20, 4.5982154e-10, 3.2689482e-14, 3.7445014e-05,\n",
       "        9.9996233e-01, 1.6663498e-12]], dtype=float32)"
      ]
     },
     "execution_count": 9,
     "metadata": {},
     "output_type": "execute_result"
    }
   ],
   "source": [
    "prediction=model.predict(X_test[[20]]) \n",
    "prediction"
   ]
  },
  {
   "cell_type": "code",
   "execution_count": 10,
   "id": "89f73733",
   "metadata": {},
   "outputs": [
    {
     "name": "stdout",
     "output_type": "stream",
     "text": [
      "The answer is Y\n"
     ]
    }
   ],
   "source": [
    "alphabets=\"ABCDEFGHIJKLMNOPQRSTUVWXYZ\"\n",
    "list1=[]\n",
    "[list1.append(i) for i in range(26)]\n",
    "list2=[]\n",
    "[list2.append(i) for i in alphabets]\n",
    "dic = dict(zip(list1, list2))\n",
    "#Let's check the result.\n",
    "print(\"The answer is\",dic[np.argmax(prediction)])"
   ]
  },
  {
   "cell_type": "code",
   "execution_count": 11,
   "id": "57d046ff",
   "metadata": {},
   "outputs": [],
   "source": [
    "model.save(r'model_hand2.h5')"
   ]
  },
  {
   "cell_type": "code",
   "execution_count": null,
   "id": "1e987011",
   "metadata": {},
   "outputs": [],
   "source": []
  },
  {
   "cell_type": "markdown",
   "id": "8097296c",
   "metadata": {},
   "source": [
    "# Ignore the below code"
   ]
  },
  {
   "cell_type": "code",
   "execution_count": null,
   "id": "275932dc",
   "metadata": {},
   "outputs": [],
   "source": [
    "X.shape"
   ]
  },
  {
   "cell_type": "code",
   "execution_count": null,
   "id": "12ab355b",
   "metadata": {},
   "outputs": [],
   "source": [
    "from sklearn.model_selection import train_test_split\n",
    "train_x, test_x, train_y, test_y = train_test_split(X, y, test_size = 0.2)\n",
    "\n",
    "train_x = np.reshape(train_x, (train_x.shape[0], 28,28))\n",
    "test_x = np.reshape(test_x, (test_x.shape[0], 28,28))\n",
    "\n",
    "print(\"Train data shape: \", train_x.shape)\n",
    "print(\"Test data shape: \", test_x.shape)"
   ]
  },
  {
   "cell_type": "code",
   "execution_count": null,
   "id": "0eb5f422",
   "metadata": {},
   "outputs": [],
   "source": [
    "train_X = train_x.reshape(train_x.shape[0],train_x.shape[1],train_x.shape[2],1)\n",
    "print(\"New shape of train data: \", train_X.shape)\n",
    "\n",
    "test_X = test_x.reshape(test_x.shape[0], test_x.shape[1], test_x.shape[2],1)\n",
    "print(\"New shape of train data: \", test_X.shape)\n",
    "\n",
    "#Now we reshape the train & test image dataset so that they can be put in the model.\n"
   ]
  },
  {
   "cell_type": "code",
   "execution_count": null,
   "id": "c972818d",
   "metadata": {},
   "outputs": [],
   "source": [
    "model = Sequential()\n",
    "\n",
    "model.add(Conv2D(filters=32, kernel_size=(3, 3), activation='relu', input_shape=(28,28,1)))\n",
    "model.add(MaxPool2D(pool_size=(2, 2), strides=2))\n",
    "\n",
    "model.add(Conv2D(filters=64, kernel_size=(3, 3), activation='relu', padding = 'same'))\n",
    "model.add(MaxPool2D(pool_size=(2, 2), strides=2))\n",
    "\n",
    "model.add(Conv2D(filters=128, kernel_size=(3, 3), activation='relu', padding = 'valid'))\n",
    "model.add(MaxPool2D(pool_size=(2, 2), strides=2))\n",
    "\n",
    "model.add(Flatten())\n",
    "\n",
    "model.add(Dense(64,activation =\"relu\"))\n",
    "model.add(Dense(128,activation =\"relu\"))\n",
    "\n",
    "model.add(Dense(26,activation =\"softmax\"))"
   ]
  },
  {
   "cell_type": "code",
   "execution_count": null,
   "id": "5550e078",
   "metadata": {},
   "outputs": [],
   "source": [
    "train_yOHE = to_categorical(train_y, num_classes = 26, dtype='int')\n",
    "print(\"New shape of train labels: \", train_yOHE.shape)\n",
    "\n",
    "test_yOHE = to_categorical(test_y, num_classes = 26, dtype='int')\n",
    "print(\"New shape of test labels: \", test_yOHE.shape)"
   ]
  },
  {
   "cell_type": "code",
   "execution_count": null,
   "id": "6333b2d8",
   "metadata": {},
   "outputs": [],
   "source": [
    "model.compile(optimizer = Adam(learning_rate=0.001), loss='categorical_crossentropy', metrics=['accuracy'])\n",
    "\n",
    "history = model.fit(train_X, train_yOHE, epochs=1,  validation_data = (test_X,test_yOHE))"
   ]
  },
  {
   "cell_type": "code",
   "execution_count": null,
   "id": "8d829456",
   "metadata": {},
   "outputs": [],
   "source": [
    "model.compile(optimizer='adam', loss='categorical_crossentropy', metrics=['accuracy'])\n",
    "model.fit(train_X, train_yOHE, epochs=2, batch_size=32, validation_data=(test_X,test_yOHE))\n",
    "\n",
    "# Evaluate the model on the test set\n"
   ]
  },
  {
   "cell_type": "code",
   "execution_count": null,
   "id": "a731c9f9",
   "metadata": {},
   "outputs": [],
   "source": []
  },
  {
   "cell_type": "code",
   "execution_count": null,
   "id": "f9010f5f",
   "metadata": {},
   "outputs": [],
   "source": [
    "predictions = model.predict(test_X)"
   ]
  },
  {
   "cell_type": "code",
   "execution_count": null,
   "id": "91564d0a",
   "metadata": {},
   "outputs": [],
   "source": [
    "from sklearn.metrics import accuracy_score\n",
    "accuracy = accuracy_score(test_y, np.argmax(predictions, axis=1))\n",
    "print(f'Test accuracy: {accuracy}')"
   ]
  },
  {
   "cell_type": "code",
   "execution_count": null,
   "id": "5b9d8358",
   "metadata": {},
   "outputs": [],
   "source": [
    "model.summary()"
   ]
  },
  {
   "cell_type": "code",
   "execution_count": null,
   "id": "f3d1e955",
   "metadata": {},
   "outputs": [],
   "source": [
    "model.save(r'model_hand1.h5')"
   ]
  },
  {
   "cell_type": "code",
   "execution_count": null,
   "id": "31c14184",
   "metadata": {},
   "outputs": [],
   "source": []
  },
  {
   "cell_type": "code",
   "execution_count": null,
   "id": "c2b906dd",
   "metadata": {},
   "outputs": [],
   "source": [
    "import cv2\n",
    "import numpy as np\n",
    "import tensorflow as tf\n",
    "\n",
    "\n",
    "model = tf.keras.models.load_model(\"C:\\\\Users\\\\aarus\\\\model_hand1.h5\")\n",
    "\n",
    "\n",
    "canvas_size = 200\n",
    "canvas = np.zeros((canvas_size, canvas_size), dtype=np.uint8)\n",
    "drawing = False\n",
    "\n",
    "\n",
    "def draw(event, x, y, flags, param):\n",
    "    global canvas, drawing\n",
    "    \n",
    "    if event == cv2.EVENT_LBUTTONDOWN:\n",
    "        drawing = True\n",
    "        cv2.circle(canvas, (x, y), 10, 255, -1)  # Draw a white circle on click\n",
    "    elif event == cv2.EVENT_MOUSEMOVE:\n",
    "        if drawing:\n",
    "            cv2.circle(canvas, (x, y), 10, 255, -1)\n",
    "    elif event == cv2.EVENT_LBUTTONUP:\n",
    "        drawing = False\n",
    "\n",
    "# Set up OpenCV window\n",
    "cv2.namedWindow('Draw Alphabet')\n",
    "cv2.setMouseCallback('Draw Alphabet', draw)\n",
    "\n",
    "while True:\n",
    "    cv2.imshow('Draw Alphabet', canvas)\n",
    "    key = cv2.waitKey(1) & 0xFF\n",
    "    if key == ord('q'):  # Press 'q' to quit\n",
    "        break\n",
    "    elif key == ord('p'):  # Press 'p' to predict\n",
    "        # Preprocess drawn image\n",
    "        resized_img = cv2.resize(canvas, (28, 28))\n",
    "        normalized_img = resized_img / 255.0\n",
    "        input_img = np.expand_dims(normalized_img, axis=0)\n",
    "        \n",
    "        # Make prediction\n",
    "        predictions = model.predict(input_img)\n",
    "        predicted_class = np.argmax(predictions)\n",
    "        predicted_alphabet = chr(ord('A') + predicted_class)\n",
    "        \n",
    "        print(f'Predicted alphabet: {predicted_alphabet}')\n",
    "        \n",
    "        result_display = np.ones((canvas_size, canvas_size), dtype=np.uint8) * 255\n",
    "        cv2.putText(result_display, f'Predicted: {predicted_alphabet}', (10, 180), cv2.FONT_HERSHEY_SIMPLEX, 0.8, 0, 2)\n",
    "        cv2.imshow('Draw Alphabet', result_display)\n",
    "\n",
    "cv2.destroyAllWindows()"
   ]
  },
  {
   "cell_type": "code",
   "execution_count": null,
   "id": "d83a6dd3",
   "metadata": {},
   "outputs": [],
   "source": []
  },
  {
   "cell_type": "code",
   "execution_count": null,
   "id": "955be9aa",
   "metadata": {},
   "outputs": [],
   "source": []
  },
  {
   "cell_type": "code",
   "execution_count": null,
   "id": "f5e815b3",
   "metadata": {},
   "outputs": [],
   "source": []
  },
  {
   "cell_type": "code",
   "execution_count": null,
   "id": "8094a73a",
   "metadata": {},
   "outputs": [],
   "source": []
  },
  {
   "cell_type": "markdown",
   "id": "eec23138",
   "metadata": {},
   "source": [
    "# Use this code to use openCV for entering an alphabet as an input"
   ]
  },
  {
   "cell_type": "code",
   "execution_count": 12,
   "id": "88a14bfe",
   "metadata": {},
   "outputs": [
    {
     "name": "stdout",
     "output_type": "stream",
     "text": [
      "Image Preprocessing is completed\n",
      "Starting to make prediction\n",
      "1/1 [==============================] - 0s 47ms/step\n",
      "The answer is b\n"
     ]
    }
   ],
   "source": [
    "import cv2\n",
    "import numpy as np\n",
    "import tensorflow as tf  # Import TensorFlow for model loading and predictions\n",
    "\n",
    "# Load your saved model\n",
    "model = tf.keras.models.load_model(\"C:\\\\Users\\\\aarus\\\\model_hand2.h5\")\n",
    "\n",
    "canvas_size = 400\n",
    "canvas = np.zeros((canvas_size, canvas_size), dtype=np.uint8) * 255  # Initialize canvas as white\n",
    "drawing = False\n",
    "font_scale = 2\n",
    "font_thickness = 3\n",
    "text_color = (255, 255, 255)  # Black color for drawing text\n",
    "\n",
    "def draw_alphabet(event, x, y, flags, param):\n",
    "    global canvas, drawing\n",
    "\n",
    "    if event == cv2.EVENT_LBUTTONDOWN:\n",
    "        drawing = True\n",
    "    elif event == cv2.EVENT_MOUSEMOVE:\n",
    "        if drawing:\n",
    "            cv2.circle(canvas, (x, y), 10, text_color, -1)\n",
    "    elif event == cv2.EVENT_LBUTTONUP:\n",
    "        drawing = False\n",
    "        cv2.circle(canvas, (x, y), 10, text_color, -1)\n",
    "\n",
    "cv2.namedWindow('Whiteboard')\n",
    "cv2.setMouseCallback('Whiteboard', draw_alphabet)\n",
    "resized_img = 0\n",
    "\n",
    "while True:\n",
    "    cv2.imshow('Whiteboard', canvas)\n",
    "    \n",
    "    key = cv2.waitKey(1) & 0xFF\n",
    "\n",
    "    if key == ord('q'):  # Press 'q' to quit\n",
    "        break\n",
    "    if key == ord('r'):  # If 'p' is pressed, perform input image preprocessing\n",
    "        if resized_img is not None:\n",
    "            # Perform prediction\n",
    "            resized_img = cv2.resize(canvas_copy, (28, 28))\n",
    "            normalized_img = resized_img / 255.0\n",
    "            input_img = np.expand_dims(normalized_img, axis=-1)\n",
    "            input_img = np.expand_dims(input_img, axis=0)  # Add batch dimension\n",
    "            print(\"Image Preprocessing is completed\")\n",
    "            \n",
    "           \n",
    "            \n",
    "    elif key == ord('s'):  # Press 's' to save the snapshot and make predictions\n",
    "        if resized_img is not None:\n",
    "             # Make predictions using your model\n",
    "            print(\"Starting to make prediction\")\n",
    "            predictions = model.predict(input_img)\n",
    "            \n",
    "            \n",
    "            alphabets=\"ABCDEFGHIJKLMNOPQRSTUVWXYZ\"\n",
    "            list1=[]\n",
    "            [list1.append(i) for i in range(26)]\n",
    "            list2=[]\n",
    "            [list2.append(i) for i in alphabets]\n",
    "            dic = dict(zip(list1, list2))\n",
    "            #Let's check the result.\n",
    "            print(\"The answer is\",dic[np.argmax(predictions)])\n",
    "            cv2.imwrite('drawing_snapshot.png', resized_img)  # Save the snapshot as 'drawing_snapshot.png'\n",
    "    \n",
    "    # Create an image of the current canvas\n",
    "    canvas_copy = canvas.copy()\n",
    "\n",
    "    # Display the image of the current canvas\n",
    "    cv2.imshow('Drawing Snapshot', canvas_copy)\n",
    "\n",
    "cv2.destroyAllWindows()\n"
   ]
  },
  {
   "cell_type": "markdown",
   "id": "593efe6c",
   "metadata": {},
   "source": [
    "# Use the below code to check the input image being fed for predictions"
   ]
  },
  {
   "cell_type": "code",
   "execution_count": 13,
   "id": "bd5201fc",
   "metadata": {},
   "outputs": [
    {
     "data": {
      "text/plain": [
       "True"
      ]
     },
     "execution_count": 13,
     "metadata": {},
     "output_type": "execute_result"
    }
   ],
   "source": [
    "import cv2\n",
    "import numpy as np\n",
    "\n",
    "# Assuming input_img is your 4D array (shape: (1, 28, 28, 1))\n",
    "\n",
    "# Remove the batch dimension\n",
    "image_3d = input_img[0]\n",
    "\n",
    "# Remove the channel dimension (assuming it's grayscale)\n",
    "image_2d = image_3d[:, :, 0]\n",
    "\n",
    "# Rescale pixel values to the original range (0 to 255)\n",
    "rescaled_image = (image_2d * 255).astype(np.uint8)\n",
    "\n",
    "# Create a blank 200x200 canvas\n",
    "canvas = np.ones((200, 200), dtype=np.uint8) * 255  # Initialize canvas as white\n",
    "\n",
    "# Calculate the position to place the input image at the center of the canvas\n",
    "x_offset = (canvas.shape[1] - rescaled_image.shape[1]) // 2\n",
    "y_offset = (canvas.shape[0] - rescaled_image.shape[0]) // 2\n",
    "\n",
    "# Copy the input image onto the canvas\n",
    "canvas[y_offset:y_offset + rescaled_image.shape[0], x_offset:x_offset + rescaled_image.shape[1]] = rescaled_image\n",
    "\n",
    "# Display the canvas with the input image\n",
    "cv2.imshow('Input Image on Canvas', canvas)\n",
    "cv2.waitKey(0)\n",
    "cv2.destroyAllWindows()\n",
    "\n",
    "# Optionally, you can save the canvas as a file\n",
    "cv2.imwrite('input_image_on_canvas.png', canvas)\n"
   ]
  },
  {
   "cell_type": "code",
   "execution_count": null,
   "id": "d28971bf",
   "metadata": {},
   "outputs": [],
   "source": []
  },
  {
   "cell_type": "code",
   "execution_count": null,
   "id": "6cb8f1bb",
   "metadata": {},
   "outputs": [],
   "source": []
  },
  {
   "cell_type": "code",
   "execution_count": null,
   "id": "bf86b205",
   "metadata": {},
   "outputs": [],
   "source": []
  },
  {
   "cell_type": "code",
   "execution_count": null,
   "id": "07dc5baa",
   "metadata": {},
   "outputs": [],
   "source": []
  },
  {
   "cell_type": "code",
   "execution_count": null,
   "id": "18b21f6f",
   "metadata": {},
   "outputs": [],
   "source": [
    "from sklearn.model_selection import train_test_split\n",
    "from sklearn.ensemble import RandomForestClassifier\n",
    "from sklearn.metrics import accuracy_score"
   ]
  },
  {
   "cell_type": "code",
   "execution_count": null,
   "id": "29cfed2c",
   "metadata": {},
   "outputs": [],
   "source": [
    "X_train, X_test, y_train, y_test = train_test_split(X, y, test_size=0.3, random_state=42)"
   ]
  },
  {
   "cell_type": "code",
   "execution_count": null,
   "id": "98166e9c",
   "metadata": {},
   "outputs": [],
   "source": [
    "X_train.shape, y_train.shape,X_test.shape, y_test.shape"
   ]
  },
  {
   "cell_type": "code",
   "execution_count": null,
   "id": "2ecd127d",
   "metadata": {},
   "outputs": [],
   "source": [
    "model=RandomForestClassifier()"
   ]
  },
  {
   "cell_type": "code",
   "execution_count": null,
   "id": "7af24c63",
   "metadata": {},
   "outputs": [],
   "source": [
    "train_X=X_train[0:180000]\n",
    "train_Y=y_train[0:180000]"
   ]
  },
  {
   "cell_type": "code",
   "execution_count": null,
   "id": "36af3b6d",
   "metadata": {},
   "outputs": [],
   "source": []
  },
  {
   "cell_type": "code",
   "execution_count": null,
   "id": "307b9ff6",
   "metadata": {},
   "outputs": [],
   "source": [
    "model.fit(X_train,y_train)"
   ]
  },
  {
   "cell_type": "code",
   "execution_count": null,
   "id": "6e2f21e8",
   "metadata": {},
   "outputs": [],
   "source": [
    "y_pred=model.predict(X_test)"
   ]
  },
  {
   "cell_type": "code",
   "execution_count": null,
   "id": "db598c0b",
   "metadata": {},
   "outputs": [],
   "source": [
    "from sklearn.metrics import accuracy_score"
   ]
  },
  {
   "cell_type": "code",
   "execution_count": null,
   "id": "52e8870b",
   "metadata": {},
   "outputs": [],
   "source": [
    "y_pred[0]"
   ]
  },
  {
   "cell_type": "code",
   "execution_count": null,
   "id": "8346278a",
   "metadata": {},
   "outputs": [],
   "source": [
    "model.predict(X_test[0].reshape(1, -1))"
   ]
  },
  {
   "cell_type": "code",
   "execution_count": null,
   "id": "88c3429d",
   "metadata": {},
   "outputs": [],
   "source": [
    "acc= accuracy_score(y_test, y_pred)"
   ]
  },
  {
   "cell_type": "code",
   "execution_count": null,
   "id": "fb170339",
   "metadata": {},
   "outputs": [],
   "source": [
    "acc"
   ]
  },
  {
   "cell_type": "code",
   "execution_count": null,
   "id": "06c863bb",
   "metadata": {},
   "outputs": [],
   "source": [
    "import pickle\n",
    "\n",
    "with open('model.pkl', 'wb') as file:\n",
    "    pickle.dump(model, file)\n"
   ]
  }
 ],
 "metadata": {
  "kernelspec": {
   "display_name": "Python 3 (ipykernel)",
   "language": "python",
   "name": "python3"
  },
  "language_info": {
   "codemirror_mode": {
    "name": "ipython",
    "version": 3
   },
   "file_extension": ".py",
   "mimetype": "text/x-python",
   "name": "python",
   "nbconvert_exporter": "python",
   "pygments_lexer": "ipython3",
   "version": "3.11.4"
  }
 },
 "nbformat": 4,
 "nbformat_minor": 5
}
